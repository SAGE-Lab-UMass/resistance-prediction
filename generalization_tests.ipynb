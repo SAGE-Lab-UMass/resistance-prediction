{
 "cells": [
  {
   "cell_type": "markdown",
   "id": "de8a0e80-8b5c-4cb5-9254-76b6ce646d7c",
   "metadata": {},
   "source": [
    "# Generalization and Robustness of Fused Ridge Model for Antibiotic Resistance Prediction\n",
    "\n",
    "This notebook evaluates two key aspects of our **Fused Ridge** model applied to antibiotic resistance prediction using protein sequence features:\n",
    "\n",
    "### Structure of This Notebook\n",
    "1. Load per-gene feature matrices and phenotype labels\n",
    "2. Run subsampling experiments to assess data robustness\n",
    "3. Analyze the distribution of novel mutations between train/test\n",
    "4. Summarize trends and visualize key findings (e.g., AUC curves, novelty tables)\n"
   ]
  },
  {
   "cell_type": "code",
   "execution_count": 1,
   "id": "1da4a9a9-362b-4763-95c3-63903b2eef57",
   "metadata": {},
   "outputs": [],
   "source": [
    "# --- Imports and Utilities ---\n",
    "import os, re, time, json, csv, joblib,sklearn\n",
    "import numpy as np\n",
    "import pandas as pd\n",
    "import matplotlib.pyplot as plt\n",
    "import seaborn as sns\n",
    "import matplotlib.cm as cm\n",
    "import matplotlib.colors as mcolors\n",
    "\n",
    "\n",
    "from joblib import Parallel, delayed\n",
    "from sklearn.model_selection import train_test_split\n",
    "from sklearn.linear_model import LassoCV, RidgeCV, LogisticRegressionCV\n",
    "from sklearn.metrics import mean_squared_error, roc_auc_score, roc_curve\n",
    "\n",
    "from utility_files.data_loading import *\n",
    "from utility_files.model_training import train_ridge_model\n",
    "from utility_files.fused_ridge_gpu import FusedRidge\n",
    "from utility_files.data_preprocessing import *\n",
    "from utility_files.distance_processing import *\n",
    "from utility_files.evaluation import *"
   ]
  },
  {
   "cell_type": "markdown",
   "id": "0913a653-9e75-4bba-b983-af815c0554bc",
   "metadata": {},
   "source": [
    "## Initialize by gene name"
   ]
  },
  {
   "cell_type": "code",
   "execution_count": 2,
   "id": "4cc036d4-04d4-4a5c-8b0f-db5a53e01b5c",
   "metadata": {},
   "outputs": [],
   "source": [
    "subsampling_rows = []\n",
    "novelty_stats_rows = []"
   ]
  },
  {
   "cell_type": "code",
   "execution_count": 35,
   "id": "4f167418-7c18-4489-a1a3-6769a0702de1",
   "metadata": {},
   "outputs": [],
   "source": [
    "# --- Configuration ---\n",
    "gene_name = 'gid'\n",
    "genes_of_interest = gene_name.split(',')\n",
    "seed_everything(42)  # Reproducibility"
   ]
  },
  {
   "cell_type": "markdown",
   "id": "8259b644-a422-4fe2-8a99-1964d778f4ae",
   "metadata": {},
   "source": [
    "## Required Data files"
   ]
  },
  {
   "cell_type": "code",
   "execution_count": 36,
   "id": "93da3e34-b814-4682-99b7-84f3349d0789",
   "metadata": {},
   "outputs": [
    {
     "name": "stdout",
     "output_type": "stream",
     "text": [
      "Target Gene: gid, Associated Drug: STREPTOMYCIN\n"
     ]
    }
   ],
   "source": [
    "# --- Load Metadata and Mutation Annotations ---\n",
    "gene_details = pd.read_csv(\"data/all_drug_genes_locations.csv\")\n",
    "filtered_df = gene_details[gene_details['gene_name'].str.contains('|'.join(genes_of_interest), case=False, na=False)]\n",
    "drug_name = filtered_df['drug_full'].values[0].upper()\n",
    "uniprot = filtered_df['Uniprot'].values[0]\n",
    "entry = filtered_df['Entry'].values[0]\n",
    "print(f\"Target Gene: {gene_name}, Associated Drug: {drug_name}\")\n"
   ]
  },
  {
   "cell_type": "code",
   "execution_count": 37,
   "id": "0a18cb8c-e2c9-4a7a-8251-ba37d055c217",
   "metadata": {},
   "outputs": [],
   "source": [
    "ref_seqs=pd.read_csv('data/protein_sequences.csv')"
   ]
  },
  {
   "cell_type": "code",
   "execution_count": 38,
   "id": "5e764ec7-1f19-4cc6-b527-852b86302b8c",
   "metadata": {},
   "outputs": [],
   "source": [
    "# variants_df = load_variants(\"data/mutations_with_one_letter_all.csv\")\n",
    "distmap_path = f\"data/distmaps/{uniprot}/{entry}\"\n",
    "dist_map = DistanceMap.from_file(distmap_path)\n"
   ]
  },
  {
   "cell_type": "code",
   "execution_count": 39,
   "id": "697a4d34-cb16-4b29-a532-b17344837277",
   "metadata": {},
   "outputs": [],
   "source": [
    "# # Load mutation annotations and extract positions associated with resistance\n",
    "# variants_df[['aa_ref', 'aa_pos', 'aa_change']] = variants_df['mutation'].str.extract(r'p\\.([A-Za-z]+)(\\d+)([A-Za-z]+)')\n",
    "# variants_df = variants_df[(variants_df['gene'].str.contains(gene_name, case=False, na=False)) &\n",
    "#                           (variants_df['confidence'].str.contains(\"Assoc w R\", case=False, na=False))]\n",
    "# variants_df.dropna(subset=['aa_pos'], inplace=True)\n",
    "# total_actual_positives = len(np.unique(variants_df['aa_pos']))\n",
    "# print(f\"Total confirmed resistance positions: {total_actual_positives}\")\n"
   ]
  },
  {
   "cell_type": "markdown",
   "id": "2d4ebc16-7e60-4cf6-8b53-c22f8e7e8a17",
   "metadata": {},
   "source": [
    "## Load training data"
   ]
  },
  {
   "cell_type": "code",
   "execution_count": 40,
   "id": "049198ae-0664-4678-bb9a-da69f4292cf1",
   "metadata": {},
   "outputs": [
    {
     "name": "stdout",
     "output_type": "stream",
     "text": [
      "Loading feature matrix and labels for gid from disk.\n"
     ]
    }
   ],
   "source": [
    "# --- Load Feature Matrix and Labels ---\n",
    "X, y = load_feature_matrix_and_labels(gene_name)\n",
    "dist_map = DistanceMap.from_file(f\"data/distmaps/{uniprot}/{entry}\")\n",
    "# Binary encode phenotype labels\n",
    "y_encoded = encode_labels(y)"
   ]
  },
  {
   "cell_type": "markdown",
   "id": "06d05384-09b3-44a2-b7c7-fb81c37df9a1",
   "metadata": {},
   "source": [
    "## Train on unique, de-duplicated data"
   ]
  },
  {
   "cell_type": "code",
   "execution_count": 41,
   "id": "159354e0-25f6-4f85-9018-29c13363b988",
   "metadata": {},
   "outputs": [],
   "source": [
    "# --- Deduplicate Data ---\n",
    "X_unique, original_indices = drop_identical_columns(X)\n",
    "X_unique_rows, row_selection_indices = drop_identical_sequences(X_unique)\n",
    "filtered_labels, [X_filtered] = filter_nan_labels(y[row_selection_indices], X_unique_rows)\n",
    "y_encoded = encode_labels(filtered_labels)\n",
    "X_train, X_test, y_train, y_test = train_test_split(X_filtered, y_encoded, test_size=0.2, stratify=y_encoded, random_state=42)\n",
    "X_train, X_test, y_train, y_test = np.array(X_train),np.array(X_test),np.array(y_train),np.array(y_test) \n",
    "\n",
    "# --- Train Ridge on Deduplicated Data ---\n",
    "ridge_model, ridge_score, ridge_auc, ridge_mse = train_ridge_model(X_train, y_train, X_test, y_test)\n",
    "initial_coef = ridge_model.coef_\n"
   ]
  },
  {
   "cell_type": "markdown",
   "id": "b0f737cd-809d-4b66-82b4-7c1f5897dd7e",
   "metadata": {},
   "source": [
    "## Fused Ridge training module"
   ]
  },
  {
   "cell_type": "code",
   "execution_count": 42,
   "id": "fbbaab7e-5946-4624-99d0-a92d7705ee11",
   "metadata": {},
   "outputs": [],
   "source": [
    "# --- Subset Features using 3D Distance Map ---\n",
    "subset_distance_matrix, valid_original_indices, subset_coef, valid_positions = process_distance_matrix(dist_map, original_indices, initial_coef)\n",
    "scale_param = compute_scale_param(dist_map.dist_matrix)\n",
    "X_train_subset = X_train[:, np.isin(original_indices, valid_original_indices)]\n",
    "X_test_subset = X_test[:, np.isin(original_indices, valid_original_indices)]\n",
    "# --- Load Hyperparameters and Train Fused Ridge ---\n",
    "optimizer_name='enhanced'\n",
    "with open(\"data/best_params.json\", 'r') as f:\n",
    "    best_params = json.load(f)[gene_name][optimizer_name]"
   ]
  },
  {
   "cell_type": "markdown",
   "id": "65b1b2b2-a83f-4fac-85db-a961437d6544",
   "metadata": {},
   "source": [
    "\n",
    "## 1. Subsampling Experiment: Training Set Size Robustness\n",
    "We investigate the effect of varying training data size on model performance. For each gene, we fix a test set and train the model on random subsets of the training data with fractions ranging from 20% to 100%. This experiment helps us assess:\n",
    "\n",
    "- **Data efficiency**: How much labeled data is sufficient to achieve near-maximum predictive performance.\n",
    "- **Model scalability**: Whether the model continues to benefit from additional data or plateaus early.\n",
    "- **Gene-specific sensitivity**: Which genes are more robust vs. more data-hungry.\n",
    "\n",
    "The results are averaged over multiple random seeds and summarized using **AUC** scores."
   ]
  },
  {
   "cell_type": "code",
   "execution_count": 43,
   "id": "c279d66f-67a2-4c41-8146-a1be3cd3274e",
   "metadata": {},
   "outputs": [],
   "source": [
    "# Fixed function with safe final_loss formatting\n",
    "def run_custom_model_subsampling_fixed_test(\n",
    "    X_train, y_train, X_test, y_test,\n",
    "    model_class, model_params,\n",
    "    set_distance_matrix_fn,\n",
    "    distance_matrix,\n",
    "    train_sizes=[0.2, 0.4, 0.6, 0.8, 1.0],\n",
    "    seeds=[0, 1, 2, 3, 4],\n",
    "    use_ridge_init=True,\n",
    "    train_ridge_model=None,\n",
    "    verbose=True\n",
    "):\n",
    "    results = {s: [] for s in train_sizes}\n",
    "\n",
    "    for seed in seeds:\n",
    "        rng = np.random.default_rng(seed)\n",
    "        for frac in train_sizes:\n",
    "            n_samples = int(frac * len(X_train))\n",
    "            indices = rng.choice(len(X_train), n_samples, replace=False)\n",
    "            X_sub = X_train[indices]\n",
    "            y_sub = y_train[indices]\n",
    "\n",
    "            if verbose:\n",
    "                print(f\"\\ndata shape {X_sub.shape}, frac size {frac}\")\n",
    "\n",
    "            # Step 1: Choose initialization\n",
    "            if use_ridge_init and train_ridge_model is not None:\n",
    "                ridge_model, _, _, _ = train_ridge_model(X_sub, y_sub, X_test, y_test)\n",
    "                initial_coef = ridge_model.coef_\n",
    "            else:\n",
    "                initial_coef = np.zeros(X_train.shape[1])\n",
    "\n",
    "            # Step 2: Inject dynamic init into params\n",
    "            this_model_params = model_params.copy()\n",
    "            this_model_params['initial_coef'] = initial_coef\n",
    "\n",
    "            # Step 3: Train Fused Ridge\n",
    "            model = model_class(**this_model_params)\n",
    "            set_distance_matrix_fn(model, distance_matrix)\n",
    "            model.fit(X_sub, y_sub)\n",
    "\n",
    "            # Step 4: Evaluate\n",
    "            y_pred_test = model.predict(X_test)\n",
    "            auc = roc_auc_score(y_test, y_pred_test)\n",
    "            results[frac].append(auc)\n",
    "\n",
    "            if verbose:\n",
    "                final_loss = getattr(model, 'final_loss', 'NA')\n",
    "                final_loss_str = f\"{final_loss:.4f}\" if isinstance(final_loss, (float, int)) else str(final_loss)\n",
    "                print(f\"Ridge score: {ridge_model.score(X_test, y_test):.4f}\" if use_ridge_init else \"Using zero init.\")\n",
    "                print(f\"Converged: {getattr(model, 'converged', 'NA')} | \"\n",
    "                      f\"Iterations: {getattr(model, 'iteration', 'NA')} | \"\n",
    "                      f\"Final loss: {final_loss_str}\")\n",
    "\n",
    "    # Aggregate summary\n",
    "    summary = {\n",
    "        'train_frac': [],\n",
    "        'mean_auc': [],\n",
    "        'std_auc': []\n",
    "    }\n",
    "\n",
    "    for frac in train_sizes:\n",
    "        aucs = results[frac]\n",
    "        summary['train_frac'].append(frac)\n",
    "        summary['mean_auc'].append(np.mean(aucs))\n",
    "        summary['std_auc'].append(np.std(aucs))\n",
    "\n",
    "    return summary\n",
    "\n"
   ]
  },
  {
   "cell_type": "code",
   "execution_count": 44,
   "id": "553b53d5-3147-4f11-a5d7-3177f35da9f9",
   "metadata": {},
   "outputs": [
    {
     "name": "stdout",
     "output_type": "stream",
     "text": [
      "\n",
      "data shape (54, 186), frac size 0.2\n",
      "Iterative optimization applied.\n",
      "Stopped after reaching max_iter (2000). Final loss: 8.950828067654443\n",
      "Using zero init.\n",
      "Converged: False | Iterations: 2000 | Final loss: 8.9508\n",
      "\n",
      "data shape (109, 186), frac size 0.4\n",
      "Iterative optimization applied.\n",
      "Stopped after reaching max_iter (2000). Final loss: 20.353658349904638\n",
      "Using zero init.\n",
      "Converged: False | Iterations: 2000 | Final loss: 20.3537\n",
      "\n",
      "data shape (163, 186), frac size 0.6\n",
      "Iterative optimization applied.\n",
      "Stopped after reaching max_iter (2000). Final loss: 29.886287342454736\n",
      "Using zero init.\n",
      "Converged: False | Iterations: 2000 | Final loss: 29.8863\n",
      "\n",
      "data shape (218, 186), frac size 0.8\n",
      "Iterative optimization applied.\n",
      "Stopped after reaching max_iter (2000). Final loss: 37.90832863216033\n",
      "Using zero init.\n",
      "Converged: False | Iterations: 2000 | Final loss: 37.9083\n",
      "\n",
      "data shape (273, 186), frac size 1.0\n",
      "Iterative optimization applied.\n",
      "Stopped after reaching max_iter (2000). Final loss: 46.814996121467644\n",
      "Using zero init.\n",
      "Converged: False | Iterations: 2000 | Final loss: 46.8150\n",
      "\n",
      "data shape (54, 186), frac size 0.2\n",
      "Iterative optimization applied.\n",
      "Stopped after reaching max_iter (2000). Final loss: 7.502596439829904\n",
      "Using zero init.\n",
      "Converged: False | Iterations: 2000 | Final loss: 7.5026\n",
      "\n",
      "data shape (109, 186), frac size 0.4\n",
      "Iterative optimization applied.\n",
      "Stopped after reaching max_iter (2000). Final loss: 19.562790716469095\n",
      "Using zero init.\n",
      "Converged: False | Iterations: 2000 | Final loss: 19.5628\n",
      "\n",
      "data shape (163, 186), frac size 0.6\n",
      "Iterative optimization applied.\n",
      "Stopped after reaching max_iter (2000). Final loss: 29.541628491196917\n",
      "Using zero init.\n",
      "Converged: False | Iterations: 2000 | Final loss: 29.5416\n",
      "\n",
      "data shape (218, 186), frac size 0.8\n",
      "Iterative optimization applied.\n",
      "Stopped after reaching max_iter (2000). Final loss: 39.88951425672734\n",
      "Using zero init.\n",
      "Converged: False | Iterations: 2000 | Final loss: 39.8895\n",
      "\n",
      "data shape (273, 186), frac size 1.0\n",
      "Iterative optimization applied.\n",
      "Stopped after reaching max_iter (2000). Final loss: 46.814996121467644\n",
      "Using zero init.\n",
      "Converged: False | Iterations: 2000 | Final loss: 46.8150\n",
      "\n",
      "data shape (54, 186), frac size 0.2\n",
      "Iterative optimization applied.\n",
      "Stopped after reaching max_iter (2000). Final loss: 9.633152451990805\n",
      "Using zero init.\n",
      "Converged: False | Iterations: 2000 | Final loss: 9.6332\n",
      "\n",
      "data shape (109, 186), frac size 0.4\n",
      "Iterative optimization applied.\n",
      "Stopped after reaching max_iter (2000). Final loss: 19.596113825735873\n",
      "Using zero init.\n",
      "Converged: False | Iterations: 2000 | Final loss: 19.5961\n",
      "\n",
      "data shape (163, 186), frac size 0.6\n",
      "Iterative optimization applied.\n",
      "Stopped after reaching max_iter (2000). Final loss: 29.61301140253856\n",
      "Using zero init.\n",
      "Converged: False | Iterations: 2000 | Final loss: 29.6130\n",
      "\n",
      "data shape (218, 186), frac size 0.8\n",
      "Iterative optimization applied.\n",
      "Stopped after reaching max_iter (2000). Final loss: 37.02328508953619\n",
      "Using zero init.\n",
      "Converged: False | Iterations: 2000 | Final loss: 37.0233\n",
      "\n",
      "data shape (273, 186), frac size 1.0\n",
      "Iterative optimization applied.\n",
      "Stopped after reaching max_iter (2000). Final loss: 46.814996121467644\n",
      "Using zero init.\n",
      "Converged: False | Iterations: 2000 | Final loss: 46.8150\n",
      "\n",
      "data shape (54, 186), frac size 0.2\n",
      "Iterative optimization applied.\n",
      "Stopped after reaching max_iter (2000). Final loss: 7.463574243287557\n",
      "Using zero init.\n",
      "Converged: False | Iterations: 2000 | Final loss: 7.4636\n",
      "\n",
      "data shape (109, 186), frac size 0.4\n",
      "Iterative optimization applied.\n",
      "Stopped after reaching max_iter (2000). Final loss: 20.936665949963192\n",
      "Using zero init.\n",
      "Converged: False | Iterations: 2000 | Final loss: 20.9367\n",
      "\n",
      "data shape (163, 186), frac size 0.6\n",
      "Iterative optimization applied.\n",
      "Stopped after reaching max_iter (2000). Final loss: 26.68005543981166\n",
      "Using zero init.\n",
      "Converged: False | Iterations: 2000 | Final loss: 26.6801\n",
      "\n",
      "data shape (218, 186), frac size 0.8\n",
      "Iterative optimization applied.\n",
      "Stopped after reaching max_iter (2000). Final loss: 34.968856369735754\n",
      "Using zero init.\n",
      "Converged: False | Iterations: 2000 | Final loss: 34.9689\n",
      "\n",
      "data shape (273, 186), frac size 1.0\n",
      "Iterative optimization applied.\n",
      "Stopped after reaching max_iter (2000). Final loss: 46.814996121467644\n",
      "Using zero init.\n",
      "Converged: False | Iterations: 2000 | Final loss: 46.8150\n",
      "\n",
      "data shape (54, 186), frac size 0.2\n",
      "Iterative optimization applied.\n",
      "Stopped after reaching max_iter (2000). Final loss: 8.507294030456627\n",
      "Using zero init.\n",
      "Converged: False | Iterations: 2000 | Final loss: 8.5073\n",
      "\n",
      "data shape (109, 186), frac size 0.4\n",
      "Iterative optimization applied.\n",
      "Stopped after reaching max_iter (2000). Final loss: 19.704515438608972\n",
      "Using zero init.\n",
      "Converged: False | Iterations: 2000 | Final loss: 19.7045\n",
      "\n",
      "data shape (163, 186), frac size 0.6\n",
      "Iterative optimization applied.\n",
      "Stopped after reaching max_iter (2000). Final loss: 28.958545606382263\n",
      "Using zero init.\n",
      "Converged: False | Iterations: 2000 | Final loss: 28.9585\n",
      "\n",
      "data shape (218, 186), frac size 0.8\n",
      "Iterative optimization applied.\n",
      "Stopped after reaching max_iter (2000). Final loss: 38.09600471934932\n",
      "Using zero init.\n",
      "Converged: False | Iterations: 2000 | Final loss: 38.0960\n",
      "\n",
      "data shape (273, 186), frac size 1.0\n",
      "Iterative optimization applied.\n",
      "Stopped after reaching max_iter (2000). Final loss: 46.814996121467644\n",
      "Using zero init.\n",
      "Converged: False | Iterations: 2000 | Final loss: 46.8150\n"
     ]
    }
   ],
   "source": [
    "## run subsampling\n",
    "fused_ridge_params = {\n",
    "    'optimizer': optimizer_name,\n",
    "    'alpha': best_params['alpha'],\n",
    "    'lambda_fuse': best_params['lambda_fuse'],\n",
    "    'scale_param': scale_param,\n",
    "    'learning_rate':best_params['learning_rate'],\n",
    "    'max_iter': 2000,\n",
    "    'clip_value': 0.9,\n",
    "    'decay_type': best_params['decay_type'],\n",
    "    'beta': best_params['beta'],\n",
    "    'early_stopping': True,\n",
    "    'tolerance': 1e-6,\n",
    "    'n_iter_no_change': 50,\n",
    "    'dimension_threshold':10\n",
    "\n",
    "}\n",
    "def set_distance_matrix_fn(model, D):\n",
    "    model.set_distance_matrix(D)\n",
    "\n",
    "summary = run_custom_model_subsampling_fixed_test(\n",
    "    X_train=X_train_subset,\n",
    "    y_train=y_train,\n",
    "    X_test=X_test_subset,\n",
    "    y_test=y_test,\n",
    "    model_class=FusedRidge,\n",
    "    model_params=fused_ridge_params,\n",
    "    set_distance_matrix_fn=set_distance_matrix_fn,\n",
    "    distance_matrix=subset_distance_matrix,\n",
    "    use_ridge_init=False,\n",
    "    train_ridge_model=train_ridge_model,  \n",
    "    verbose=True\n",
    ")\n",
    "\n",
    "\n"
   ]
  },
  {
   "cell_type": "code",
   "execution_count": 45,
   "id": "7dac9132-f349-4a76-bdca-c8b93c1a1987",
   "metadata": {},
   "outputs": [],
   "source": [
    "formatted_row = {\n",
    "    'gene': gene_name,\n",
    "    'train_fracs': [round(v, 2) for v in summary['train_frac']],\n",
    "    'mean_aucs': [round(v, 4) for v in summary['mean_auc']],\n",
    "    'std_aucs': [round(v, 4) for v in summary['std_auc']],\n",
    "    'avg_auc': round(np.mean(summary['mean_auc']), 4)\n",
    "}\n",
    "subsampling_rows.append(formatted_row)"
   ]
  },
  {
   "cell_type": "code",
   "execution_count": 46,
   "id": "7788e564-5454-4de0-a7d9-d48e5356ab12",
   "metadata": {},
   "outputs": [],
   "source": [
    "\n",
    "# Ensure the columns are treated as numeric types\n",
    "# subsampling_results['train_fracs'] = subsampling_results['train_fracs'].apply(eval)\n",
    "# subsampling_results['mean_aucs'] = subsampling_results['mean_aucs'].apply(eval)\n",
    "# subsampling_results['std_aucs'] = subsampling_results['std_aucs'].apply(eval)"
   ]
  },
  {
   "cell_type": "markdown",
   "id": "ad1795fb-aa38-46b1-ab57-620b0362c8fc",
   "metadata": {},
   "source": [
    "## 2. Novel Mutation Analysis: Generalization to Unseen Variants\n",
    "To test the model's ability to generalize to **out-of-distribution (OOD)** resistance mutations, we quantify the proportion of test-set mutations that were not seen in the training set (post genotype deduplication). This analysis shows:\n",
    "\n",
    "- Which genes exhibit high novelty (e.g., gyrA, rpsL, embB)\n",
    "- Whether the dataset naturally introduces a generalization challenge via unseen variants\n",
    "- The implications for resistance prediction in real-world, evolving bacterial populations\n",
    "\n",
    "This also justifies our evaluation setup, which implicitly tests OOD generalization without needing manual mutation holdout.\n"
   ]
  },
  {
   "cell_type": "code",
   "execution_count": 51,
   "id": "515561f2-7650-4458-b8af-2714c3f8434a",
   "metadata": {},
   "outputs": [],
   "source": [
    "\n",
    "def build_col_to_mutation_map(reference_seq):\n",
    "    \"\"\"\n",
    "    Build mapping from column index to mutation label.\n",
    "    Assumes:\n",
    "    - Column 0: frameshift flag\n",
    "    - Column 1..L: amino acid differences from H37Rv at positions 1..L\n",
    "    \"\"\"\n",
    "    col_to_mut = {0: 'frameshift'}\n",
    "    for pos, ref_aa in enumerate(reference_seq):\n",
    "        col_to_mut[pos + 1] = f'{ref_aa}{pos + 1}X'  # e.g., S315X\n",
    "    return col_to_mut\n",
    "\n",
    "def extract_mutations(X_subset, col_to_mutation):\n",
    "    \"\"\"\n",
    "    Given a subset of the feature matrix, return the set of active mutations.\n",
    "    \"\"\"\n",
    "    rows, cols = X_subset.nonzero()\n",
    "    return set(col_to_mutation[col] for col in np.unique(cols))\n",
    "\n",
    "def analyze_novel_mutations(X, y, reference_seq):\n",
    "    \"\"\"\n",
    "    Main analysis logic: train/test split, mutation tracking.\n",
    "    \"\"\"\n",
    "    # Build mapping from column index to mutation\n",
    "    col_to_mutation = build_col_to_mutation_map(reference_seq)\n",
    "\n",
    "    # Train/test split\n",
    "    y_encoded = encode_labels(y)\n",
    "    X_train, X_test, y_train, y_test = train_test_split(X, y_encoded, test_size=0.2, stratify=y_encoded, random_state=42)\n",
    "\n",
    "    # Extract mutations\n",
    "    train_mutations = extract_mutations(X_train, col_to_mutation)\n",
    "    test_mutations = extract_mutations(X_test, col_to_mutation)\n",
    "\n",
    "    novel_mutations = test_mutations - train_mutations\n",
    "    shared_mutations = test_mutations & train_mutations\n",
    "\n",
    "    # Print results\n",
    "    print(f\"Feature matrix shape: {X.shape}\")\n",
    "    print(f\"Total test mutations: {len(test_mutations)}\")\n",
    "    print(f\"Novel mutations in test set: {len(novel_mutations)}\")\n",
    "    print(f\"Shared mutations in test set: {len(shared_mutations)}\")\n",
    "    print(f\"\\nExamples of novel mutations: {list(novel_mutations)[:5]}\")\n",
    "    print(f\"Examples of shared mutations: {list(shared_mutations)[:5]}\")\n",
    "    print(f\"\\nNovel mutation % in test set: {100 * len(novel_mutations) / len(test_mutations):.2f}%\")\n",
    "    \n",
    "    return {\n",
    "        'train_mutations': train_mutations,\n",
    "        'test_mutations': test_mutations,\n",
    "        'novel_mutations': novel_mutations,\n",
    "        'shared_mutations': shared_mutations\n",
    "    }\n",
    "\n",
    "def analyze_novel_mutations_from_split(X_train, X_test, reference_seq):\n",
    "    col_to_mutation = build_col_to_mutation_map(reference_seq)\n",
    "    \n",
    "    train_mutations = extract_mutations(X_train, col_to_mutation)\n",
    "    test_mutations = extract_mutations(X_test, col_to_mutation)\n",
    "\n",
    "    novel_mutations = test_mutations - train_mutations\n",
    "    shared_mutations = test_mutations & train_mutations\n",
    "    # Remove 'frameshift' from both sets (if present)\n",
    "    novel_mutations.discard('frameshift')\n",
    "    shared_mutations.discard('frameshift')\n",
    "\n",
    "    print(f\"Train set size: {X_train.shape[0]}\")\n",
    "    print(f\"Test set size: {X_test.shape[0]}\")\n",
    "    print(f\"Total test mutations: {len(test_mutations)}\")\n",
    "    print(f\"Novel mutations in test set: {len(novel_mutations)}\")\n",
    "    print(f\"Shared mutations in test set: {len(shared_mutations)}\")\n",
    "    print(f\"\\nExamples of novel mutations: {list(novel_mutations)[:5]}\")\n",
    "    print(f\"\\nNovel mutation % in test set: {100 * len(novel_mutations) / len(test_mutations):.2f}%\")\n",
    "\n",
    "    return {\n",
    "        'train_mutations': train_mutations,\n",
    "        'test_mutations': test_mutations,\n",
    "        'novel_mutations': novel_mutations,\n",
    "        'shared_mutations': shared_mutations\n",
    "    }\n",
    "\n"
   ]
  },
  {
   "cell_type": "code",
   "execution_count": 52,
   "id": "758c7cec-4380-48ad-ba2a-db297b0699e1",
   "metadata": {},
   "outputs": [],
   "source": [
    "\n",
    "h37rv_aa_str = ref_seqs.loc[ref_seqs['gene'] == gene_name, 'protein_sequence'].values[0]\n",
    "ref_genome =  ref_seqs.loc[ref_seqs['gene'] == gene_name, 'genome_sequence'].values[0]"
   ]
  },
  {
   "cell_type": "code",
   "execution_count": 53,
   "id": "091dc1c5-33f8-4a81-b482-b6f558012709",
   "metadata": {},
   "outputs": [
    {
     "name": "stdout",
     "output_type": "stream",
     "text": [
      "Train set size: 273\n",
      "Test set size: 69\n",
      "Total test mutations: 205\n",
      "Novel mutations in test set: 3\n",
      "Shared mutations in test set: 201\n",
      "\n",
      "Examples of novel mutations: ['V203X', 'N194X', 'R197X']\n",
      "\n",
      "Novel mutation % in test set: 1.46%\n"
     ]
    }
   ],
   "source": [
    "# Run the mutation analysis\n",
    "results = analyze_novel_mutations_from_split(X_train, X_test, h37rv_aa_str)"
   ]
  },
  {
   "cell_type": "code",
   "execution_count": 54,
   "id": "8ad36380-2e70-4c24-b095-31fa98ba6ca5",
   "metadata": {},
   "outputs": [],
   "source": [
    "row = {\n",
    "    'gene': gene_name,\n",
    "    'train_samples': X_train.shape[0],\n",
    "    'test_samples': X_test.shape[0],\n",
    "    'total_test_mutations': len(results['test_mutations']),\n",
    "    'novel_test_mutations': len(results['novel_mutations']),\n",
    "    'shared_test_mutations': len(results['shared_mutations']),\n",
    "    'novel_mutation_pct': 100 * len(results['novel_mutations']) / len(results['test_mutations']) if results['test_mutations'] else 0,\n",
    "    'example_novel_mutations': list(results['novel_mutations'])[:5]\n",
    "}\n",
    "novelty_stats_rows.append(row)\n"
   ]
  },
  {
   "cell_type": "markdown",
   "id": "20810665-c530-4193-a3f3-475872094abd",
   "metadata": {},
   "source": [
    "## plot final results"
   ]
  },
  {
   "cell_type": "code",
   "execution_count": 55,
   "id": "63a218e3-93d2-4869-aa47-317c1c5ccede",
   "metadata": {},
   "outputs": [
    {
     "data": {
      "image/png": "[encoded data removed]",
      "text/plain": [
       "<Figure size 1000x600 with 1 Axes>"
      ]
     },
     "metadata": {},
     "output_type": "display_data"
    }
   ],
   "source": [
    "novelty_df=pd.DataFrame(novelty_stats_rows)\n",
    "# Plotting\n",
    "plt.figure(figsize=(10, 6))\n",
    "bars = plt.bar(novelty_df['gene'], novelty_df['novel_mutation_pct'], color='skyblue')\n",
    "plt.title(\"Novel Mutation Rate by Gene\", fontsize=20)\n",
    "plt.xlabel(\"Gene\", fontsize=18)\n",
    "plt.ylabel(\"Novel Mutation Rate (%)\", fontsize=18)\n",
    "plt.ylim(0, 40)\n",
    "plt.grid(axis='y', linestyle='--', alpha=0.7)\n",
    "\n",
    "# Set x and y tick label sizes\n",
    "plt.xticks(fontsize=16, rotation=45)  # Rotate if gene names are long\n",
    "plt.yticks(fontsize=16)\n",
    "\n",
    "# Add value labels\n",
    "for bar in bars:\n",
    "    yval = bar.get_height()\n",
    "    plt.text(bar.get_x() + bar.get_width()/2, yval + 0.8, f'{yval:.1f}%', ha='center', va='bottom', fontsize=14)\n",
    "\n",
    "plt.tight_layout()\n",
    "plt.show()\n"
   ]
  },
  {
   "cell_type": "code",
   "execution_count": 56,
   "id": "f4338954-b65c-4821-9572-395ad8487f64",
   "metadata": {},
   "outputs": [
    {
     "data": {
      "image/png": "[encoded data removed]",
      "text/plain": [
       "<Figure size 1000x600 with 1 Axes>"
      ]
     },
     "metadata": {},
     "output_type": "display_data"
    }
   ],
   "source": [
    "subsampling_results = pd.DataFrame(subsampling_rows)\n",
    "# Plotting the data\n",
    "plt.figure(figsize=(10, 6))\n",
    "\n",
    "for _, row in subsampling_results.iterrows():\n",
    "    train_fracs = row['train_fracs']\n",
    "    mean_aucs = row['mean_aucs']\n",
    "    std_aucs = row['std_aucs']\n",
    "\n",
    "    plt.errorbar(\n",
    "        train_fracs,\n",
    "        mean_aucs,\n",
    "        yerr=std_aucs,\n",
    "        label=row['gene'],\n",
    "        marker='o',\n",
    "        capsize=3,\n",
    "        linestyle='-'\n",
    "    )\n",
    "\n",
    "plt.title(\"Subsampling Analysis: AUC vs Training Set Size\")\n",
    "plt.xlabel(\"Training Set Fraction\")\n",
    "plt.ylabel(\"AUC\")\n",
    "plt.ylim(0.4, 1)\n",
    "plt.grid(True, linestyle='--', alpha=0.6)\n",
    "plt.legend(title=\"Gene\", bbox_to_anchor=(1.05, 1), loc='upper left')\n",
    "plt.tight_layout()\n",
    "\n",
    "plt.show()\n"
   ]
  },
  {
   "cell_type": "code",
   "execution_count": null,
   "id": "1948f7b5-3b31-4f1c-a691-c1a4452067d1",
   "metadata": {},
   "outputs": [],
   "source": []
  }
 ],
 "metadata": {
  "kernelspec": {
   "display_name": "Python [conda env:protein]",
   "language": "python",
   "name": "conda-env-protein-py"
  },
  "language_info": {
   "codemirror_mode": {
    "name": "ipython",
    "version": 3
   },
   "file_extension": ".py",
   "mimetype": "text/x-python",
   "name": "python",
   "nbconvert_exporter": "python",
   "pygments_lexer": "ipython3",
   "version": "3.10.12"
  }
 },
 "nbformat": 4,
 "nbformat_minor": 5
}

{
 "cells": [
  {
   "cell_type": "markdown",
   "id": "55dd8e31-84ba-415d-a73c-36bbb6092a21",
   "metadata": {
    "tags": []
   },
   "source": [
    "# Protein Translation and Feature Extraction Pipeline\n",
    "\n",
    "This notebook performs end-to-end processing of variant-aligned FASTA files to generate model-ready feature matrices for phenotype prediction in *Mycobacterium tuberculosis*.\n",
    "\n",
    "### Objectives:\n",
    "- Load variant-aligned nucleotide sequences for a given resistance gene.\n",
    "- Translate DNA sequences to protein sequences while handling gaps and frameshifts.\n",
    "- Align translated sequences to the *H37Rv* reference protein.\n",
    "- Annotate each sequence with resistance phenotype labels.\n",
    "- Save both aligned amino acid sequences and a one-hot encoded feature matrix for machine learning models.\n",
    "\n",
    "This pipeline supports downstream tasks including:\n",
    "- Benchmarking classification performance across genes and drugs.\n",
    "- Computing per-residue importance using classical and deep models.\n",
    "- Linking sequence-level variation with known resistance mechanisms from WHO mutation catalogs.\n"
   ]
  },
  {
   "cell_type": "markdown",
   "id": "6b8b7e80-3139-4446-9819-a8a4b0c1cddd",
   "metadata": {},
   "source": [
    "## load required packages and files"
   ]
  },
  {
   "cell_type": "code",
   "execution_count": 1,
   "id": "e7f24829-76d6-41d2-82d1-09977b81cbe3",
   "metadata": {},
   "outputs": [],
   "source": [
    "import os, re, time, json, csv, joblib, sklearn\n",
    "import numpy as np, pandas as pd\n",
    "from Bio.Seq import Seq\n",
    "from Bio import SeqIO\n",
    "from evcouplings.compare import DistanceMap\n",
    "from Bio.Data import CodonTable\n",
    "from joblib import Parallel, delayed"
   ]
  },
  {
   "cell_type": "code",
   "execution_count": 2,
   "id": "cb475cf0-3608-46f3-b614-80e1d866282a",
   "metadata": {},
   "outputs": [],
   "source": [
    "from data_loading import *\n",
    "from data_preprocessing import *\n",
    "from sequence_translation import *"
   ]
  },
  {
   "cell_type": "markdown",
   "id": "e8836e7d-90c1-4a09-a575-2da997d3ad21",
   "metadata": {
    "tags": []
   },
   "source": [
    "## initialize by gene name"
   ]
  },
  {
   "cell_type": "code",
   "execution_count": 3,
   "id": "05e5cdd6-df09-4a45-880d-87e7b74fea4c",
   "metadata": {},
   "outputs": [],
   "source": [
    "gene_name='rpsL'\n",
    "genes_of_interest=gene_name.split(',') #useful if running for multiple proteins\n",
    "# Set random seed for reproducibility\n",
    "seed_everything(42)"
   ]
  },
  {
   "cell_type": "markdown",
   "id": "d624a83a-3a34-40af-80f6-1b94d8cf3070",
   "metadata": {
    "tags": []
   },
   "source": [
    "## Required data files"
   ]
  },
  {
   "cell_type": "code",
   "execution_count": 4,
   "id": "c4cae2ae-271f-4dfe-9ae7-75ea447da38e",
   "metadata": {},
   "outputs": [],
   "source": [
    "# Load phenotype data and gene metadata\n",
    "phenotype_paths = [\"data/master_table_resistance.csv\",\"data/cryptic_dataset.csv\"]  # resistance labels\n",
    "gene_details = pd.read_csv(\"data/all_drug_genes_locations.csv\") # details on genomic accessions and drugs\n",
    "fasta_dir = \"data/cryptic_fasta_files\""
   ]
  },
  {
   "cell_type": "code",
   "execution_count": 5,
   "id": "77856120-1030-4a5a-808f-5910a6485c04",
   "metadata": {},
   "outputs": [
    {
     "name": "stdout",
     "output_type": "stream",
     "text": [
      "The drug associated with the gene rpsL is: STREPTOMYCIN\n"
     ]
    }
   ],
   "source": [
    "# Filter the DataFrame for target gene\n",
    "filtered_df = gene_details [gene_details ['gene_name'].str.contains('|'.join(genes_of_interest), case=False, na=False)]\n",
    "drug_name = filtered_df['drug_full'].values[0].upper()\n",
    "uniprot = filtered_df['Uniprot'].values[0]\n",
    "entry = filtered_df['Entry'].values[0]\n",
    "print(f\"The drug associated with the gene {gene_name} is: {drug_name}\")"
   ]
  },
  {
   "cell_type": "code",
   "execution_count": 6,
   "id": "666785ad-8031-4f4b-90b9-3ba1c7789b30",
   "metadata": {},
   "outputs": [
    {
     "name": "stdout",
     "output_type": "stream",
     "text": [
      "Warning: STREPTOMYCIN column not found in data/cryptic_dataset.csv\n",
      "Number of records in phenotype data: 17545\n"
     ]
    }
   ],
   "source": [
    "#load and clean phenotype data\n",
    "phenotype_data = load_phenotype_data(phenotype_paths,drug_name).reset_index()\n",
    "phenotype_data=phenotype_data.drop(['level_0'], axis=1)\n",
    "phenotype_data[\"Isolate_mapped\"] = [path.split(\"/\")[-1].split(\".vcf\")[0].split(\".cut\")[0] for path in phenotype_data.path]\n",
    "phenotype_mapping = dict(zip(phenotype_data['Isolate_mapped'], phenotype_data[drug_name.upper()]))"
   ]
  },
  {
   "cell_type": "code",
   "execution_count": 8,
   "id": "4b1e3ecc-ffea-43e3-9079-b9e4d724ad7f",
   "metadata": {},
   "outputs": [
    {
     "name": "stdout",
     "output_type": "stream",
     "text": [
      "Processing file: rpsL.fasta\n",
      "Gene: rpsL, Drug: streptomycin\n",
      "gene shape: (31452, 651)\n",
      "Processed subset alignment for gene start 781559.0 and end 781933.0 in column 11\n",
      "Using column 11 for alignment selection.\n",
      "Reference numbers for this column: [781311. 781312. 781313. ...      0.      0.      0.]\n"
     ]
    }
   ],
   "source": [
    "# Process each FASTA alignment and extract the gene region\n",
    "subset_alignment=''\n",
    "h37rv_nongap_indices=[]\n",
    "for index, row in filtered_df.iterrows():\n",
    "    # Extract gene-related info from metadata\n",
    "    fasta_filename = row['filename']\n",
    "    print(f\"Processing file: {fasta_filename}\")\n",
    "    start_index = row['start_position_on_the_genomic_accession']\n",
    "    end_index = row['end_position_on_the_genomic_accession']\n",
    "    uniprot = row['Uniprot']\n",
    "    entry = row['Entry']\n",
    "    drug = row['drug_full'] \n",
    "    drug_code = row['Drug']\n",
    "    gene = row['gene_name']\n",
    "    orientation = row['orientation']\n",
    "    file_path = os.path.join(fasta_dir, fasta_filename)\n",
    "    filename = os.path.basename(file_path)\n",
    "\n",
    "\n",
    "    # Load and inspect alignment matrix\n",
    "    alignment = load_alignment(file_path)\n",
    "    # print(f\"Loaded alignment matrix for {filename}\")\n",
    "    print(f\"Gene: {gene}, Drug: {drug}\")\n",
    "    print(f\"gene shape: {alignment.matrix.shape}\")\n",
    "\n",
    "    # Load H37Rv reference column-wise coordinates\n",
    "    h37rv_numbers = np.load(\"data/X_matrix_H37RV_coords.npy\")\n",
    "    h37rv_ref = alignment.select(sequences=[alignment.id_to_index[\"MT_H37Rv\"]])\n",
    "    # Extract gene-specific slice of the alignment\n",
    "    subset_alignment, column_index, start_index, end_index = sort_gene_indices(h37rv_numbers, start_index, end_index, alignment)\n",
    "    if column_index is not None:\n",
    "        print(f\"Using column {column_index} for alignment selection.\")\n",
    "        print(f\"Reference numbers for this column: {h37rv_numbers[:, column_index]}\")\n",
    "    else:\n",
    "        raise ValueError(f\" No valid column found for gene start {start_index}.\")\n",
    "\n",
    "    h37rv_alignment = select_subset_alignment(h37rv_ref, start_index, end_index,h37rv_numbers[:, column_index])\n",
    "    # Extract gene-specific slice of the alignment\n",
    "    h37rv_nongap_indices = np.where(h37rv_alignment[0] != \"-\")[0]\n",
    "    h37rv_sequence_str = ''.join(h37rv_alignment[0][h37rv_nongap_indices])"
   ]
  },
  {
   "cell_type": "code",
   "execution_count": 9,
   "id": "f71bc924-c283-4166-9c14-0c481a835e07",
   "metadata": {},
   "outputs": [],
   "source": [
    "# Convert alignment to dictionary mapping filenames to sequences\n",
    "filenames = [path.split(\"/\")[-1].split(\".cut\")[0] for path in subset_alignment.ids]\n",
    "filename_to_sequence = {}\n",
    "for i, filename in enumerate(filenames):\n",
    "    if filename not in filename_to_sequence and i < len(subset_alignment):\n",
    "        filename_to_sequence[filename] = ''.join(subset_alignment[i])\n",
    "filenames = list(filename_to_sequence.keys()) "
   ]
  },
  {
   "cell_type": "markdown",
   "id": "162a0609-84e8-4d94-86f7-6a955c0f0d28",
   "metadata": {},
   "source": [
    "## Data preparation: from DNA seq to protein translation"
   ]
  },
  {
   "cell_type": "code",
   "execution_count": 11,
   "id": "abffdfa6-5a98-427d-bb63-b22f28e9f147",
   "metadata": {},
   "outputs": [],
   "source": [
    "# Define the output file path\n",
    "output_file = f\"data/sequence_data_csv/{gene_name}_sequence_data.csv\"\n"
   ]
  },
  {
   "cell_type": "code",
   "execution_count": 12,
   "id": "493d1a59-5ac5-4b0c-bcea-5fe2724d820d",
   "metadata": {},
   "outputs": [
    {
     "name": "stdout",
     "output_type": "stream",
     "text": [
      "CSV file 'data/sequence_data_csv/rpsL_sequence_data.csv' saved successfully!\n"
     ]
    }
   ],
   "source": [
    "# Write CSV with per-sample nucleotide sequences and phenotypes\n",
    "data_list = []\n",
    "for i in range(len(filenames)):\n",
    "    filename = filenames[i]\n",
    "\n",
    "    if filename in phenotype_mapping and filename in filename_to_sequence:\n",
    "        # Fetch the corresponding phenotype\n",
    "        phenotype = phenotype_mapping[filename]\n",
    "        # Fetch the corresponding sequence\n",
    "        sequence = filename_to_sequence[filename]\n",
    "        ## we include the nongap indices here so that we're only looking at mutations relative to h37rv\n",
    "        sequence = \"\".join(np.array(list(sequence))[h37rv_nongap_indices])\n",
    "        # Append to list\n",
    "        data_list.append([filename, sequence, phenotype, len(sequence)])\n",
    "\n",
    "# Save data to CSV\n",
    "with open(output_file, mode=\"w\", newline=\"\") as file:\n",
    "    writer = csv.writer(file)\n",
    "    writer.writerow([\"Filename\", \"Sequence\", \"Phenotype\",\"seq_len\"])  # Header\n",
    "    writer.writerows(data_list)\n",
    "\n",
    "print(f\"CSV file '{output_file}' saved successfully!\")"
   ]
  },
  {
   "cell_type": "markdown",
   "id": "b5254648-3482-4c81-8d45-a35a85ca83c0",
   "metadata": {},
   "source": [
    "## Convert nucleotide sequence to protein sequence"
   ]
  },
  {
   "cell_type": "code",
   "execution_count": 14,
   "id": "cd30bc9f-6f67-492d-a5d9-cc28332bc24f",
   "metadata": {},
   "outputs": [],
   "source": [
    "gene_sequence_data=pd.read_csv(output_file)"
   ]
  },
  {
   "cell_type": "code",
   "execution_count": 15,
   "id": "631c335d-f640-4f63-a30c-8c93f47d68e6",
   "metadata": {},
   "outputs": [
    {
     "name": "stderr",
     "output_type": "stream",
     "text": [
      "/work/pi_annagreen_umass_edu/mahbuba/protein/lib/python3.10/site-packages/Bio/Seq.py:2804: BiopythonWarning: Partial codon, len(sequence) not a multiple of three. Explicitly trim the sequence or add trailing N before translation. This may become an error in future.\n",
      "  warnings.warn(\n"
     ]
    },
    {
     "name": "stdout",
     "output_type": "stream",
     "text": [
      "translation before aligning MPTIQQLVRKGRRDKISKVKTAALKGSPQRRGVCTRVYTTTPRKPNSALRKVARVKLTSQVEVTAYIPGEGHNLQEHSMVLVRGGRVKDLPGVRYKIIRGSLDTQGVKNRKQARSRYGAKKEKG\n",
      "translation after aligning MPTIQQLVRKGRRDKISKVKTAALKGSPQRRGVCTRVYTTTPRKPNSALRKVARVKLTSQVEVTAYIPGEGHNLQEHSMVLVRGGRVKDLPGVRYKIIRGSLDTQGVKNRKQARSRYGAKKEKG\n",
      "Translated length: 124, Reference length: 124\n",
      "Final aligned sequence: MPTIQQLVRKGRRDKISKVKTAALKGSPQRRGVCTRVYTTTPRKPNSALRKVARVKLTSQVEVTAYIPGEGHNLQEHSMVLVRGGRVKDLPGVRYKIIRGSLDTQGVKNRKQARSRYGAKKEKG\n"
     ]
    }
   ],
   "source": [
    "# Translate each DNA sequence to amino acids and handle orientation/frameshifts\n",
    "all_translations = []           # Stores final aligned amino acid sequences\n",
    "all_labels = []                 # Stores phenotype labels\n",
    "problematic_indices = set()    # Indices where frameshifts were detected\n",
    "frameshift_mutations_list = [] # Binary flag: 1 if frameshift, 0 otherwise\n",
    "\n",
    "# Loop through all sequences for the current gene\n",
    "for i in range(len(gene_sequence_data)):\n",
    "    problematic = False  # Track if the current sequence has issues\n",
    "    \n",
    "    # Determine translation based on strand orientation\n",
    "    if orientation == 'plus':\n",
    "        h37rv_aa_str = Seq(h37rv_sequence_str).translate()  # Translate H37Rv reference for '+' strand\n",
    "        reference_length = len(h37rv_aa_str)\n",
    "        translation, frameshift = translate_sequence_with_gaps(\n",
    "            gene_sequence_data[\"Sequence\"][i],\n",
    "            to_stop=False,\n",
    "            ref_protein_length=reference_length\n",
    "        )\n",
    "    else:\n",
    "        # Reverse complement for '-' strand before translation\n",
    "        h37rv_aa_str = Seq(h37rv_sequence_str).reverse_complement().translate()\n",
    "        reference_length = len(h37rv_aa_str)\n",
    "        template_dna = Seq(gene_sequence_data[\"Sequence\"][i]).reverse_complement()\n",
    "        translation, frameshift = translate_sequence_with_gaps(\n",
    "            str(template_dna),\n",
    "            to_stop=False,\n",
    "            ref_protein_length=reference_length\n",
    "        )\n",
    "\n",
    "    # Align the translated sequence to the reference (handles insertions/deletions)\n",
    "    aligned_translation = align_and_handle_deletions(translation, h37rv_aa_str)\n",
    "\n",
    "    # Print debug information for the second sequence (optional)\n",
    "    if i == 1:\n",
    "        print(\"translation before aligning\", translation)\n",
    "        print(\"translation after aligning\", aligned_translation)\n",
    "        print(f\"Translated length: {len(translation)}, Reference length: {reference_length}\")\n",
    "        print(f\"Final aligned sequence: {aligned_translation}\")\n",
    "\n",
    "    # Handle detected frameshifts by marking and replacing the sequence with 0s\n",
    "    if frameshift:\n",
    "        problematic = True\n",
    "        problematic_indices.add(i)\n",
    "        frameshift_mutations_list.append(1)\n",
    "        aligned_translation = '0' * reference_length  # Placeholder for unusable sequences\n",
    "    else:\n",
    "        frameshift_mutations_list.append(0)\n",
    "\n",
    "    # Store aligned sequence and phenotype label\n",
    "    all_translations.append(aligned_translation)\n",
    "    all_labels.append(gene_sequence_data[\"Phenotype\"][i])\n",
    "\n",
    "# Add aligned amino acid sequences and frameshift mutation flags to DataFrame\n",
    "gene_sequence_data[\"Protein_Sequence\"] = all_translations\n",
    "gene_sequence_data[\"Frameshift_Mutation\"] = frameshift_mutations_list\n"
   ]
  },
  {
   "cell_type": "markdown",
   "id": "8f93f26f-7b0a-4d8c-ab8b-d5c3a8ebfc4d",
   "metadata": {},
   "source": [
    "## add protein sequence to the gene csv file and save"
   ]
  },
  {
   "cell_type": "code",
   "execution_count": 16,
   "id": "226e38f1-59ad-4ea8-a9c5-1a55911d3fc7",
   "metadata": {},
   "outputs": [],
   "source": [
    "gene_sequence_data.to_csv(output_file, index=False)"
   ]
  },
  {
   "cell_type": "code",
   "execution_count": 17,
   "id": "d092bc0f-4407-4308-971d-7adfa418ada3",
   "metadata": {},
   "outputs": [
    {
     "name": "stdout",
     "output_type": "stream",
     "text": [
      "{0: 17542}\n",
      "Problematic percentage: 0.0%\n",
      "Keeping all sequences.\n",
      "Reference length expected: 124\n",
      "Sample of sequence lengths after truncation: [124, 124, 124, 124, 124, 124, 124, 124, 124, 124]\n",
      "All translations have the correct length.\n",
      "Total sequences after filtering: 17542\n",
      "Sample of sequence lengths after filtering: [124, 124, 124, 124, 124, 124, 124, 124, 124, 124]\n"
     ]
    }
   ],
   "source": [
    "# --- Diagnostic stats on frameshifts and alignment success ---\n",
    "\n",
    "# Count the number of sequences with and without frameshifts\n",
    "unique_elements, counts = np.unique(frameshift_mutations_list, return_counts=True)\n",
    "value_counts_dict = dict(zip(unique_elements, counts))  # e.g., {0: valid_count, 1: frameshift_count}\n",
    "print(value_counts_dict)\n",
    "\n",
    "# Calculate the percentage of sequences flagged as problematic due to frameshift mutations\n",
    "problem_percentage = (len(problematic_indices) / len(gene_sequence_data)) * 100\n",
    "print(f\"Problematic percentage: {problem_percentage}%\")\n",
    "\n",
    "# Proceed with keeping all sequences, regardless of frameshift status (for interpretability, etc.)\n",
    "print(\"Keeping all sequences.\")\n",
    "valid_indices = range(len(gene_sequence_data))\n",
    "\n",
    "# Truncate all aligned translations to the reference length (for consistency)\n",
    "valid_translations = [(filenames[i], all_translations[i][:reference_length]) for i in valid_indices]\n",
    "\n",
    "# Corresponding phenotype labels\n",
    "valid_labels = [all_labels[i] for i in valid_indices]\n",
    "\n",
    "# Check sequence lengths after truncation\n",
    "valid_lengths = [len(seq[1]) for seq in valid_translations]\n",
    "\n",
    "# Identify any sequences that still deviate from the expected length\n",
    "length_mismatches = [i for i, length in enumerate(valid_lengths) if length != reference_length]\n",
    "total_sequences = len(valid_translations)\n",
    "num_mismatches = len(length_mismatches)\n",
    "\n",
    "# Display summary of sequence lengths\n",
    "print(f\"Reference length expected: {reference_length}\")\n",
    "print(f\"Sample of sequence lengths after truncation: {[len(seq[1]) for seq in valid_translations[:10]]}\")\n",
    "\n",
    "# Report whether sequence lengths are consistent\n",
    "if num_mismatches == 0:\n",
    "    print(\"All translations have the correct length.\")\n",
    "else:\n",
    "    mismatch_percentage = (num_mismatches / total_sequences) * 100\n",
    "    print(f\"{num_mismatches} sequences have varying lengths out of {total_sequences} sequences.\")\n",
    "    print(f\"Percentage of sequences with varying lengths: {mismatch_percentage:.2f}%\")\n",
    "    # Optional debug info:\n",
    "    # print(f\"Indices of sequences with varying lengths: {length_mismatches}\")\n",
    "    # print(f\"Lengths of the mismatched sequences: {[valid_lengths[i] for i in length_mismatches]}\")\n",
    "\n",
    "# Final stats\n",
    "print(f\"Total sequences after filtering: {len(valid_translations)}\")\n",
    "print(f\"Sample of sequence lengths after filtering: {[len(seq[1]) for seq in valid_translations[:10]]}\")\n"
   ]
  },
  {
   "cell_type": "markdown",
   "id": "c20778ab-d35a-4539-8a04-6c204aff164d",
   "metadata": {},
   "source": [
    "### write aa fasta file"
   ]
  },
  {
   "cell_type": "code",
   "execution_count": 18,
   "id": "386d5db7-7ba4-485c-a87e-0fdc9fab41db",
   "metadata": {},
   "outputs": [
    {
     "name": "stdout",
     "output_type": "stream",
     "text": [
      "FASTA file saved at data/full_sequence_alignments/all_sequences_rpsL_aa.fasta\n"
     ]
    }
   ],
   "source": [
    "# Write full translated sequences in FASTA format\n",
    "protein_name = f'data/full_sequence_alignments/all_sequences_{gene_name}_aa.fasta'\n",
    "\n",
    "# Ensure the DataFrame has the correct columns\n",
    "if {\"Filename\", \"Protein_Sequence\", \"Phenotype\", \"Frameshift_Mutation\"}.issubset(gene_sequence_data.columns):\n",
    "    write_fasta_with_metadata_from_df(gene_sequence_data, protein_name, reference_length)\n",
    "    print(f\"FASTA file saved at {protein_name}\")\n",
    "else:\n",
    "    print(\"Error: The DataFrame is missing required columns.\")\n"
   ]
  },
  {
   "cell_type": "markdown",
   "id": "9d3a914d-bf7e-4554-8871-bc29b85b20a2",
   "metadata": {},
   "source": [
    "### save feature matrix and feature labels"
   ]
  },
  {
   "cell_type": "code",
   "execution_count": 19,
   "id": "b8673953-cc23-4860-899b-2efec694b554",
   "metadata": {},
   "outputs": [
    {
     "name": "stdout",
     "output_type": "stream",
     "text": [
      "Feature matrix shape: (17542, 125)\n"
     ]
    }
   ],
   "source": [
    "# Encode protein sequences relative to H37Rv reference and generate feature matrix\n",
    "num_cores = joblib.cpu_count()\n",
    "\n",
    "encoded_features = Parallel(n_jobs=num_cores)(\n",
    "    delayed(encode_sequence)(valid_translations[i][1], reference_length, h37rv_aa_str) for i in range(len(valid_translations)))\n",
    "\n",
    "\n",
    "mutation_flags = np.array(frameshift_mutations_list).reshape(-1, 1)\n",
    "\n",
    "feature_matrix = np.column_stack((mutation_flags, np.array(encoded_features)))\n",
    "\n",
    "print(f\"Feature matrix shape: {feature_matrix.shape}\")\n",
    "\n",
    "# Save feature matrix and corresponding labels\n",
    "np.save(f'data/feature_matrix_labels/{gene_name}_feature_matrix.npy', feature_matrix)\n",
    "np.save(f'data/feature_matrix_labels/{gene_name}_labels.npy', valid_labels)"
   ]
  }
 ],
 "metadata": {
  "kernelspec": {
   "display_name": "Python [conda env:protein]",
   "language": "python",
   "name": "conda-env-protein-py"
  },
  "language_info": {
   "codemirror_mode": {
    "name": "ipython",
    "version": 3
   },
   "file_extension": ".py",
   "mimetype": "text/x-python",
   "name": "python",
   "nbconvert_exporter": "python",
   "pygments_lexer": "ipython3",
   "version": "3.10.12"
  }
 },
 "nbformat": 4,
 "nbformat_minor": 5
}
